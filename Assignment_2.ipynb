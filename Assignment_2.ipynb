{
  "nbformat": 4,
  "nbformat_minor": 0,
  "metadata": {
    "colab": {
      "provenance": []
    },
    "kernelspec": {
      "name": "python3",
      "display_name": "Python 3"
    },
    "language_info": {
      "name": "python"
    }
  },
  "cells": [
    {
      "cell_type": "markdown",
      "source": [
        "Assignment_2 (Day-1: Challenge Question)"
      ],
      "metadata": {
        "id": "n0oZz1QtecfJ"
      }
    },
    {
      "cell_type": "code",
      "execution_count": null,
      "metadata": {
        "colab": {
          "base_uri": "https://localhost:8080/"
        },
        "id": "te4_VGLLeNiz",
        "outputId": "952aa841-0131-4a8a-9fbe-71752b51176b"
      },
      "outputs": [
        {
          "output_type": "stream",
          "name": "stdout",
          "text": [
            "Before Sorting:  ['Ram', 1, 'Shyam', 2, 'Aman', 3]\n",
            "After Sorting:  [1, 2, 3, 'Aman', 'Ram', 'Shyam']\n"
          ]
        }
      ],
      "source": [
        "L = [\"Ram\", 1, \"Shyam\", 2, \"Aman\", 3]\n",
        "print(\"Before Sorting: \", L)\n",
        "L.sort(key=str)\n",
        "print(\"After Sorting: \", L)\n",
        "\n",
        "# L = [\"Ram\", 1, \"Shyam\", 2, \"Aman\", 3]\n",
        "# print(L)\n",
        "# strings= [x for x in L if isinstance(x,str)]\n",
        "# integers= [x for x in L if isinstance(x,int)]\n",
        "\n",
        "# strings.sort()\n",
        "# integers.sort()\n",
        "# sorted_list= integers+strings\n",
        "\n",
        "# print(sorted_list)"
      ]
    }
  ]
}